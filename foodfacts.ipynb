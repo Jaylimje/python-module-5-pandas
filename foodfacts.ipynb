{
 "cells": [
  {
   "cell_type": "markdown",
   "id": "0d39139d-c626-4459-9efe-8622b54ed7ac",
   "metadata": {},
   "source": [
    "# Step 1. Go to https://www.kaggle.com/openfoodfacts/world-food-facts/data"
   ]
  },
  {
   "cell_type": "markdown",
   "id": "2489a474-298c-4da6-93d7-fe9942aed333",
   "metadata": {},
   "source": [
    "# Step 2. Download the dataset to your computer and unzip it."
   ]
  },
  {
   "cell_type": "markdown",
   "id": "e4e44539-bbc7-47f3-bd1e-1c755c4992fa",
   "metadata": {},
   "source": [
    "# Step 3. Use the tsv file and assign it to a dataframe called food"
   ]
  },
  {
   "cell_type": "code",
   "execution_count": 1,
   "id": "314e7d90-185d-42f4-b0d5-c8472591bc14",
   "metadata": {},
   "outputs": [],
   "source": [
    "import pandas as pd"
   ]
  },
  {
   "cell_type": "code",
   "execution_count": 2,
   "id": "7d895f97-d8d6-4031-90e8-1309cbf94f61",
   "metadata": {},
   "outputs": [
    {
     "name": "stderr",
     "output_type": "stream",
     "text": [
      "C:\\Users\\Jay\\AppData\\Local\\Temp\\ipykernel_2532\\483058956.py:1: DtypeWarning: Columns (0,3,5,19,20,24,25,26,27,28,36,37,38,39,48) have mixed types. Specify dtype option on import or set low_memory=False.\n",
      "  food = pd.read_csv(\"en.openfoodfacts.org.products.tsv\", sep = '\\t')\n"
     ]
    }
   ],
   "source": [
    "food = pd.read_csv(\"en.openfoodfacts.org.products.tsv\", sep = '\\t')"
   ]
  },
  {
   "cell_type": "markdown",
   "id": "ffdef958-5b7c-4824-bbdd-e8fe18b6fc47",
   "metadata": {},
   "source": [
    "# Step 4. See the first 5 entries"
   ]
  },
  {
   "cell_type": "code",
   "execution_count": 3,
   "id": "5b3599e2-5d13-47c9-89c3-e31413073481",
   "metadata": {},
   "outputs": [
    {
     "data": {
      "text/html": [
       "<div>\n",
       "<style scoped>\n",
       "    .dataframe tbody tr th:only-of-type {\n",
       "        vertical-align: middle;\n",
       "    }\n",
       "\n",
       "    .dataframe tbody tr th {\n",
       "        vertical-align: top;\n",
       "    }\n",
       "\n",
       "    .dataframe thead th {\n",
       "        text-align: right;\n",
       "    }\n",
       "</style>\n",
       "<table border=\"1\" class=\"dataframe\">\n",
       "  <thead>\n",
       "    <tr style=\"text-align: right;\">\n",
       "      <th></th>\n",
       "      <th>code</th>\n",
       "      <th>url</th>\n",
       "      <th>creator</th>\n",
       "      <th>created_t</th>\n",
       "      <th>created_datetime</th>\n",
       "      <th>last_modified_t</th>\n",
       "      <th>last_modified_datetime</th>\n",
       "      <th>product_name</th>\n",
       "      <th>generic_name</th>\n",
       "      <th>quantity</th>\n",
       "      <th>...</th>\n",
       "      <th>fruits-vegetables-nuts_100g</th>\n",
       "      <th>fruits-vegetables-nuts-estimate_100g</th>\n",
       "      <th>collagen-meat-protein-ratio_100g</th>\n",
       "      <th>cocoa_100g</th>\n",
       "      <th>chlorophyl_100g</th>\n",
       "      <th>carbon-footprint_100g</th>\n",
       "      <th>nutrition-score-fr_100g</th>\n",
       "      <th>nutrition-score-uk_100g</th>\n",
       "      <th>glycemic-index_100g</th>\n",
       "      <th>water-hardness_100g</th>\n",
       "    </tr>\n",
       "  </thead>\n",
       "  <tbody>\n",
       "    <tr>\n",
       "      <th>0</th>\n",
       "      <td>3087</td>\n",
       "      <td>http://world-en.openfoodfacts.org/product/0000...</td>\n",
       "      <td>openfoodfacts-contributors</td>\n",
       "      <td>1474103866</td>\n",
       "      <td>2016-09-17T09:17:46Z</td>\n",
       "      <td>1474103893</td>\n",
       "      <td>2016-09-17T09:18:13Z</td>\n",
       "      <td>Farine de blé noir</td>\n",
       "      <td>NaN</td>\n",
       "      <td>1kg</td>\n",
       "      <td>...</td>\n",
       "      <td>NaN</td>\n",
       "      <td>NaN</td>\n",
       "      <td>NaN</td>\n",
       "      <td>NaN</td>\n",
       "      <td>NaN</td>\n",
       "      <td>NaN</td>\n",
       "      <td>NaN</td>\n",
       "      <td>NaN</td>\n",
       "      <td>NaN</td>\n",
       "      <td>NaN</td>\n",
       "    </tr>\n",
       "    <tr>\n",
       "      <th>1</th>\n",
       "      <td>4530</td>\n",
       "      <td>http://world-en.openfoodfacts.org/product/0000...</td>\n",
       "      <td>usda-ndb-import</td>\n",
       "      <td>1489069957</td>\n",
       "      <td>2017-03-09T14:32:37Z</td>\n",
       "      <td>1489069957</td>\n",
       "      <td>2017-03-09T14:32:37Z</td>\n",
       "      <td>Banana Chips Sweetened (Whole)</td>\n",
       "      <td>NaN</td>\n",
       "      <td>NaN</td>\n",
       "      <td>...</td>\n",
       "      <td>NaN</td>\n",
       "      <td>NaN</td>\n",
       "      <td>NaN</td>\n",
       "      <td>NaN</td>\n",
       "      <td>NaN</td>\n",
       "      <td>NaN</td>\n",
       "      <td>14.0</td>\n",
       "      <td>14.0</td>\n",
       "      <td>NaN</td>\n",
       "      <td>NaN</td>\n",
       "    </tr>\n",
       "    <tr>\n",
       "      <th>2</th>\n",
       "      <td>4559</td>\n",
       "      <td>http://world-en.openfoodfacts.org/product/0000...</td>\n",
       "      <td>usda-ndb-import</td>\n",
       "      <td>1489069957</td>\n",
       "      <td>2017-03-09T14:32:37Z</td>\n",
       "      <td>1489069957</td>\n",
       "      <td>2017-03-09T14:32:37Z</td>\n",
       "      <td>Peanuts</td>\n",
       "      <td>NaN</td>\n",
       "      <td>NaN</td>\n",
       "      <td>...</td>\n",
       "      <td>NaN</td>\n",
       "      <td>NaN</td>\n",
       "      <td>NaN</td>\n",
       "      <td>NaN</td>\n",
       "      <td>NaN</td>\n",
       "      <td>NaN</td>\n",
       "      <td>0.0</td>\n",
       "      <td>0.0</td>\n",
       "      <td>NaN</td>\n",
       "      <td>NaN</td>\n",
       "    </tr>\n",
       "    <tr>\n",
       "      <th>3</th>\n",
       "      <td>16087</td>\n",
       "      <td>http://world-en.openfoodfacts.org/product/0000...</td>\n",
       "      <td>usda-ndb-import</td>\n",
       "      <td>1489055731</td>\n",
       "      <td>2017-03-09T10:35:31Z</td>\n",
       "      <td>1489055731</td>\n",
       "      <td>2017-03-09T10:35:31Z</td>\n",
       "      <td>Organic Salted Nut Mix</td>\n",
       "      <td>NaN</td>\n",
       "      <td>NaN</td>\n",
       "      <td>...</td>\n",
       "      <td>NaN</td>\n",
       "      <td>NaN</td>\n",
       "      <td>NaN</td>\n",
       "      <td>NaN</td>\n",
       "      <td>NaN</td>\n",
       "      <td>NaN</td>\n",
       "      <td>12.0</td>\n",
       "      <td>12.0</td>\n",
       "      <td>NaN</td>\n",
       "      <td>NaN</td>\n",
       "    </tr>\n",
       "    <tr>\n",
       "      <th>4</th>\n",
       "      <td>16094</td>\n",
       "      <td>http://world-en.openfoodfacts.org/product/0000...</td>\n",
       "      <td>usda-ndb-import</td>\n",
       "      <td>1489055653</td>\n",
       "      <td>2017-03-09T10:34:13Z</td>\n",
       "      <td>1489055653</td>\n",
       "      <td>2017-03-09T10:34:13Z</td>\n",
       "      <td>Organic Polenta</td>\n",
       "      <td>NaN</td>\n",
       "      <td>NaN</td>\n",
       "      <td>...</td>\n",
       "      <td>NaN</td>\n",
       "      <td>NaN</td>\n",
       "      <td>NaN</td>\n",
       "      <td>NaN</td>\n",
       "      <td>NaN</td>\n",
       "      <td>NaN</td>\n",
       "      <td>NaN</td>\n",
       "      <td>NaN</td>\n",
       "      <td>NaN</td>\n",
       "      <td>NaN</td>\n",
       "    </tr>\n",
       "  </tbody>\n",
       "</table>\n",
       "<p>5 rows × 163 columns</p>\n",
       "</div>"
      ],
      "text/plain": [
       "    code                                                url  \\\n",
       "0   3087  http://world-en.openfoodfacts.org/product/0000...   \n",
       "1   4530  http://world-en.openfoodfacts.org/product/0000...   \n",
       "2   4559  http://world-en.openfoodfacts.org/product/0000...   \n",
       "3  16087  http://world-en.openfoodfacts.org/product/0000...   \n",
       "4  16094  http://world-en.openfoodfacts.org/product/0000...   \n",
       "\n",
       "                      creator   created_t      created_datetime  \\\n",
       "0  openfoodfacts-contributors  1474103866  2016-09-17T09:17:46Z   \n",
       "1             usda-ndb-import  1489069957  2017-03-09T14:32:37Z   \n",
       "2             usda-ndb-import  1489069957  2017-03-09T14:32:37Z   \n",
       "3             usda-ndb-import  1489055731  2017-03-09T10:35:31Z   \n",
       "4             usda-ndb-import  1489055653  2017-03-09T10:34:13Z   \n",
       "\n",
       "  last_modified_t last_modified_datetime                    product_name  \\\n",
       "0      1474103893   2016-09-17T09:18:13Z              Farine de blé noir   \n",
       "1      1489069957   2017-03-09T14:32:37Z  Banana Chips Sweetened (Whole)   \n",
       "2      1489069957   2017-03-09T14:32:37Z                         Peanuts   \n",
       "3      1489055731   2017-03-09T10:35:31Z          Organic Salted Nut Mix   \n",
       "4      1489055653   2017-03-09T10:34:13Z                 Organic Polenta   \n",
       "\n",
       "  generic_name quantity  ... fruits-vegetables-nuts_100g  \\\n",
       "0          NaN      1kg  ...                         NaN   \n",
       "1          NaN      NaN  ...                         NaN   \n",
       "2          NaN      NaN  ...                         NaN   \n",
       "3          NaN      NaN  ...                         NaN   \n",
       "4          NaN      NaN  ...                         NaN   \n",
       "\n",
       "  fruits-vegetables-nuts-estimate_100g collagen-meat-protein-ratio_100g  \\\n",
       "0                                  NaN                              NaN   \n",
       "1                                  NaN                              NaN   \n",
       "2                                  NaN                              NaN   \n",
       "3                                  NaN                              NaN   \n",
       "4                                  NaN                              NaN   \n",
       "\n",
       "  cocoa_100g chlorophyl_100g carbon-footprint_100g nutrition-score-fr_100g  \\\n",
       "0        NaN             NaN                   NaN                     NaN   \n",
       "1        NaN             NaN                   NaN                    14.0   \n",
       "2        NaN             NaN                   NaN                     0.0   \n",
       "3        NaN             NaN                   NaN                    12.0   \n",
       "4        NaN             NaN                   NaN                     NaN   \n",
       "\n",
       "  nutrition-score-uk_100g glycemic-index_100g water-hardness_100g  \n",
       "0                     NaN                 NaN                 NaN  \n",
       "1                    14.0                 NaN                 NaN  \n",
       "2                     0.0                 NaN                 NaN  \n",
       "3                    12.0                 NaN                 NaN  \n",
       "4                     NaN                 NaN                 NaN  \n",
       "\n",
       "[5 rows x 163 columns]"
      ]
     },
     "execution_count": 3,
     "metadata": {},
     "output_type": "execute_result"
    }
   ],
   "source": [
    "food.head()"
   ]
  },
  {
   "cell_type": "markdown",
   "id": "a42f8598-9d75-4654-956a-b6da9a969d4d",
   "metadata": {},
   "source": [
    "# Step 5. What is the number of observations in the dataset?"
   ]
  },
  {
   "cell_type": "code",
   "execution_count": 4,
   "id": "29db5dc5-5f14-490e-9041-62143942f456",
   "metadata": {},
   "outputs": [
    {
     "data": {
      "text/plain": [
       "(278364, 163)"
      ]
     },
     "execution_count": 4,
     "metadata": {},
     "output_type": "execute_result"
    }
   ],
   "source": [
    "food.shape"
   ]
  },
  {
   "cell_type": "code",
   "execution_count": 5,
   "id": "a0512019-6277-4ebd-baea-e3b2ac3d7ced",
   "metadata": {},
   "outputs": [
    {
     "data": {
      "text/plain": [
       "278364"
      ]
     },
     "execution_count": 5,
     "metadata": {},
     "output_type": "execute_result"
    }
   ],
   "source": [
    "food.shape[0]"
   ]
  },
  {
   "cell_type": "markdown",
   "id": "b3cb249b-924e-4fe6-8042-ec04e136b3da",
   "metadata": {},
   "source": [
    "# Step 6. What is the number of columns in the dataset?"
   ]
  },
  {
   "cell_type": "code",
   "execution_count": 6,
   "id": "e66797bd-8ef9-4fba-815c-afaba0761c0b",
   "metadata": {},
   "outputs": [
    {
     "data": {
      "text/plain": [
       "163"
      ]
     },
     "execution_count": 6,
     "metadata": {},
     "output_type": "execute_result"
    }
   ],
   "source": [
    "food.shape[1]"
   ]
  },
  {
   "cell_type": "markdown",
   "id": "6d3e3daa-850c-44f0-b103-9fdcf171b591",
   "metadata": {},
   "source": [
    "# Step 7. Print the name of all the columns."
   ]
  },
  {
   "cell_type": "code",
   "execution_count": 7,
   "id": "d53ed2e6-2d39-4dff-ab5c-b407f41834e6",
   "metadata": {},
   "outputs": [
    {
     "data": {
      "text/plain": [
       "Index(['code', 'url', 'creator', 'created_t', 'created_datetime',\n",
       "       'last_modified_t', 'last_modified_datetime', 'product_name',\n",
       "       'generic_name', 'quantity',\n",
       "       ...\n",
       "       'fruits-vegetables-nuts_100g', 'fruits-vegetables-nuts-estimate_100g',\n",
       "       'collagen-meat-protein-ratio_100g', 'cocoa_100g', 'chlorophyl_100g',\n",
       "       'carbon-footprint_100g', 'nutrition-score-fr_100g',\n",
       "       'nutrition-score-uk_100g', 'glycemic-index_100g',\n",
       "       'water-hardness_100g'],\n",
       "      dtype='object', length=163)"
      ]
     },
     "execution_count": 7,
     "metadata": {},
     "output_type": "execute_result"
    }
   ],
   "source": [
    "food.columns"
   ]
  },
  {
   "cell_type": "markdown",
   "id": "ea97eb91-d184-4a98-bb18-a2c7bdc8a95a",
   "metadata": {},
   "source": [
    "# Step 8. What is the name of 105th column?"
   ]
  },
  {
   "cell_type": "code",
   "execution_count": 8,
   "id": "20c25d03-dffa-43fb-8ad9-f8a44fa17516",
   "metadata": {},
   "outputs": [
    {
     "data": {
      "text/plain": [
       "'-fructose_100g'"
      ]
     },
     "execution_count": 8,
     "metadata": {},
     "output_type": "execute_result"
    }
   ],
   "source": [
    "food.columns[105]"
   ]
  },
  {
   "cell_type": "markdown",
   "id": "8bfdb94e-8f79-4050-942a-451dabc88a56",
   "metadata": {},
   "source": [
    "# Step 9. What is the type of the observations of the 105th column?"
   ]
  },
  {
   "cell_type": "code",
   "execution_count": 11,
   "id": "2a362e1a-ec1e-48be-a6a9-d723de762e67",
   "metadata": {},
   "outputs": [
    {
     "name": "stderr",
     "output_type": "stream",
     "text": [
      "C:\\Users\\Jay\\AppData\\Local\\Temp\\ipykernel_2532\\2826290896.py:1: FutureWarning: Series.__getitem__ treating keys as positions is deprecated. In a future version, integer keys will always be treated as labels (consistent with DataFrame behavior). To access a value by position, use `ser.iloc[pos]`\n",
      "  food.dtypes[105]\n"
     ]
    },
    {
     "data": {
      "text/plain": [
       "dtype('float64')"
      ]
     },
     "execution_count": 11,
     "metadata": {},
     "output_type": "execute_result"
    }
   ],
   "source": [
    "food.dtypes[105]"
   ]
  },
  {
   "cell_type": "markdown",
   "id": "cb726f15-d87f-44b5-ba9f-ea7f866af3df",
   "metadata": {},
   "source": [
    "# Step 10. How is the dataset indexed?"
   ]
  },
  {
   "cell_type": "code",
   "execution_count": 13,
   "id": "5d8e2a76-8e8a-475d-b172-2f7d1d674c80",
   "metadata": {},
   "outputs": [
    {
     "data": {
      "text/plain": [
       "RangeIndex(start=0, stop=278364, step=1)"
      ]
     },
     "execution_count": 13,
     "metadata": {},
     "output_type": "execute_result"
    }
   ],
   "source": [
    "food.index"
   ]
  },
  {
   "cell_type": "markdown",
   "id": "90ec933b-5ae3-4f19-8050-c4e81d856704",
   "metadata": {},
   "source": [
    "# Step 11. What is the product name of the 19th observation?"
   ]
  },
  {
   "cell_type": "code",
   "execution_count": 15,
   "id": "0ec01692-e0a7-4834-b97d-9786953b776a",
   "metadata": {},
   "outputs": [
    {
     "data": {
      "text/plain": [
       "'Split Pea Soup Mix'"
      ]
     },
     "execution_count": 15,
     "metadata": {},
     "output_type": "execute_result"
    }
   ],
   "source": [
    "food[\"product_name\"][105]"
   ]
  },
  {
   "cell_type": "code",
   "execution_count": null,
   "id": "10901a1f-b600-4900-9866-c7b4e0784204",
   "metadata": {},
   "outputs": [],
   "source": []
  }
 ],
 "metadata": {
  "kernelspec": {
   "display_name": "Python 3 (ipykernel)",
   "language": "python",
   "name": "python3"
  },
  "language_info": {
   "codemirror_mode": {
    "name": "ipython",
    "version": 3
   },
   "file_extension": ".py",
   "mimetype": "text/x-python",
   "name": "python",
   "nbconvert_exporter": "python",
   "pygments_lexer": "ipython3",
   "version": "3.11.7"
  }
 },
 "nbformat": 4,
 "nbformat_minor": 5
}
